{
 "cells": [
  {
   "cell_type": "code",
   "execution_count": 37,
   "metadata": {},
   "outputs": [],
   "source": [
    "from Image_Preprocessing import get_string\n",
    "import io\n",
    "from google.cloud import vision\n",
    "from google.cloud.vision import types\n",
    "import os\n",
    "from google.oauth2 import service_account\n"
   ]
  },
  {
   "cell_type": "code",
   "execution_count": 40,
   "metadata": {},
   "outputs": [],
   "source": [
    "credentials = service_account.Credentials. from_service_account_file('googleapikey.json')"
   ]
  },
  {
   "cell_type": "code",
   "execution_count": 41,
   "metadata": {},
   "outputs": [
    {
     "name": "stdout",
     "output_type": "stream",
     "text": [
      "Labels:\n",
      "technical drawing\n",
      "drawing\n",
      "text\n",
      "structure\n",
      "line art\n",
      "black and white\n",
      "design\n",
      "artwork\n",
      "diagram\n",
      "line\n"
     ]
    }
   ],
   "source": [
    "vision_client = vision.ImageAnnotatorClient(credentials=credentials)\n",
    "file_name = os.path.join(\n",
    "    os.path.dirname('__file__'), \n",
    "    'Images/02_Car_Transmission_Hand.jpg')\n",
    "\n",
    "with io.open(file_name, 'rb') as image_file:\n",
    "    content = image_file.read()\n",
    "\n",
    "image = types.Image(content=content)\n",
    "\n",
    "#Perform label detection on image file\n",
    "response = vision_client.label_detection(image=image)\n",
    "labels = response.label_annotations\n",
    "\n",
    "print('Labels:')\n",
    "for label in labels:\n",
    "    print(label.description)\n",
    "\n"
   ]
  },
  {
   "cell_type": "code",
   "execution_count": null,
   "metadata": {},
   "outputs": [],
   "source": []
  }
 ],
 "metadata": {
  "kernelspec": {
   "display_name": "Python 3",
   "language": "python",
   "name": "python3"
  },
  "language_info": {
   "codemirror_mode": {
    "name": "ipython",
    "version": 3
   },
   "file_extension": ".py",
   "mimetype": "text/x-python",
   "name": "python",
   "nbconvert_exporter": "python",
   "pygments_lexer": "ipython3",
   "version": "3.6.5"
  }
 },
 "nbformat": 4,
 "nbformat_minor": 2
}
